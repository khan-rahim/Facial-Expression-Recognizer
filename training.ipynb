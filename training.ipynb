{
 "cells": [
  {
   "cell_type": "code",
   "execution_count": 1,
   "metadata": {},
   "outputs": [
    {
     "name": "stderr",
     "output_type": "stream",
     "text": [
      "Using TensorFlow backend.\n"
     ]
    }
   ],
   "source": [
    "import sys\n",
    "import os\n",
    "import numpy as np\n",
    "import pandas as pd\n",
    "from keras.models import Sequential\n",
    "from keras.layers import Dense, Dropout, Activation, Flatten\n",
    "from keras.layers import Conv2D, MaxPooling2D, BatchNormalization,AveragePooling2D\n",
    "from keras.losses import categorical_crossentropy\n",
    "from keras.optimizers import Adam\n",
    "from keras.regularizers import l2\n",
    "from keras.utils import np_utils"
   ]
  },
  {
   "cell_type": "code",
   "execution_count": 2,
   "metadata": {},
   "outputs": [],
   "source": [
    "df = pd.read_csv('fer2013.csv')"
   ]
  },
  {
   "cell_type": "code",
   "execution_count": 3,
   "metadata": {},
   "outputs": [
    {
     "name": "stdout",
     "output_type": "stream",
     "text": [
      "<class 'pandas.core.frame.DataFrame'>\n",
      "RangeIndex: 35887 entries, 0 to 35886\n",
      "Data columns (total 3 columns):\n",
      " #   Column   Non-Null Count  Dtype \n",
      "---  ------   --------------  ----- \n",
      " 0   emotion  35887 non-null  int64 \n",
      " 1   pixels   35887 non-null  object\n",
      " 2   Usage    35887 non-null  object\n",
      "dtypes: int64(1), object(2)\n",
      "memory usage: 841.2+ KB\n",
      "None\n"
     ]
    }
   ],
   "source": [
    "print(df.info())"
   ]
  },
  {
   "cell_type": "code",
   "execution_count": 4,
   "metadata": {},
   "outputs": [
    {
     "data": {
      "text/plain": [
       "<bound method NDFrame.head of        emotion                                             pixels        Usage\n",
       "0            0  70 80 82 72 58 58 60 63 54 58 60 48 89 115 121...     Training\n",
       "1            0  151 150 147 155 148 133 111 140 170 174 182 15...     Training\n",
       "2            2  231 212 156 164 174 138 161 173 182 200 106 38...     Training\n",
       "3            4  24 32 36 30 32 23 19 20 30 41 21 22 32 34 21 1...     Training\n",
       "4            6  4 0 0 0 0 0 0 0 0 0 0 0 3 15 23 28 48 50 58 84...     Training\n",
       "...        ...                                                ...          ...\n",
       "35882        6  50 36 17 22 23 29 33 39 34 37 37 37 39 43 48 5...  PrivateTest\n",
       "35883        3  178 174 172 173 181 188 191 194 196 199 200 20...  PrivateTest\n",
       "35884        0  17 17 16 23 28 22 19 17 25 26 20 24 31 19 27 9...  PrivateTest\n",
       "35885        3  30 28 28 29 31 30 42 68 79 81 77 67 67 71 63 6...  PrivateTest\n",
       "35886        2  19 13 14 12 13 16 21 33 50 57 71 84 97 108 122...  PrivateTest\n",
       "\n",
       "[35887 rows x 3 columns]>"
      ]
     },
     "execution_count": 4,
     "metadata": {},
     "output_type": "execute_result"
    }
   ],
   "source": [
    "df.head"
   ]
  },
  {
   "cell_type": "code",
   "execution_count": 5,
   "metadata": {},
   "outputs": [],
   "source": [
    "X_train,y_train,X_test,y_test=[],[],[],[]\n",
    "\n",
    "for index, row in df.iterrows():\n",
    "    val=row['pixels'].split(\" \")\n",
    "    try:\n",
    "        if 'Training' in row['Usage']:\n",
    "           X_train.append(np.array(val,'float32'))\n",
    "           y_train.append(row['emotion'])\n",
    "        elif 'PublicTest' in row['Usage']:\n",
    "           X_test.append(np.array(val,'float32'))\n",
    "           y_test.append(row['emotion'])\n",
    "    except:\n",
    "        print(f\"error occured at index :{index} and row:{row}\")"
   ]
  },
  {
   "cell_type": "code",
   "execution_count": 6,
   "metadata": {},
   "outputs": [
    {
     "name": "stdout",
     "output_type": "stream",
     "text": [
      "(28709, 2304)\n",
      "(3589, 2304)\n",
      "(28709,)\n",
      "(3589,)\n"
     ]
    }
   ],
   "source": [
    "X_train = np.array(X_train,'float32')\n",
    "y_train = np.array(y_train,'float32')\n",
    "X_test = np.array(X_test,'float32')\n",
    "y_test = np.array(y_test,'float32')\n",
    "print(X_train.shape)\n",
    "print(X_test.shape)\n",
    "print(y_train.shape)\n",
    "print(y_test.shape)"
   ]
  },
  {
   "cell_type": "code",
   "execution_count": 7,
   "metadata": {},
   "outputs": [],
   "source": [
    "X_train -= np.mean(X_train, axis=0)\n",
    "X_train /= np.std(X_train, axis=0)\n",
    "\n",
    "X_test -= np.mean(X_test, axis=0)\n",
    "X_test /= np.std(X_test, axis=0)"
   ]
  },
  {
   "cell_type": "code",
   "execution_count": 8,
   "metadata": {},
   "outputs": [
    {
     "name": "stdout",
     "output_type": "stream",
     "text": [
      "(28709, 48, 48, 1)\n",
      "(3589, 48, 48, 1)\n"
     ]
    }
   ],
   "source": [
    "X_train = X_train.reshape(-1, 48, 48, 1)\n",
    "X_test = X_test.reshape(-1, 48, 48, 1)\n",
    "print(X_train.shape)\n",
    "print(X_test.shape)"
   ]
  },
  {
   "cell_type": "code",
   "execution_count": 9,
   "metadata": {},
   "outputs": [
    {
     "name": "stdout",
     "output_type": "stream",
     "text": [
      "(28709, 7)\n",
      "(3589, 7)\n"
     ]
    }
   ],
   "source": [
    "y_train=np_utils.to_categorical(y_train,num_classes=7)\n",
    "y_test=np_utils.to_categorical(y_test,num_classes=7)\n",
    "print(y_train.shape)\n",
    "print(y_test.shape)"
   ]
  },
  {
   "cell_type": "code",
   "execution_count": 10,
   "metadata": {},
   "outputs": [
    {
     "name": "stdout",
     "output_type": "stream",
     "text": [
      "Model: \"sequential_1\"\n",
      "_________________________________________________________________\n",
      "Layer (type)                 Output Shape              Param #   \n",
      "=================================================================\n",
      "conv2d_1 (Conv2D)            (None, 46, 46, 32)        320       \n",
      "_________________________________________________________________\n",
      "max_pooling2d_1 (MaxPooling2 (None, 23, 23, 32)        0         \n",
      "_________________________________________________________________\n",
      "dropout_1 (Dropout)          (None, 23, 23, 32)        0         \n",
      "_________________________________________________________________\n",
      "conv2d_2 (Conv2D)            (None, 21, 21, 64)        18496     \n",
      "_________________________________________________________________\n",
      "max_pooling2d_2 (MaxPooling2 (None, 10, 10, 64)        0         \n",
      "_________________________________________________________________\n",
      "dropout_2 (Dropout)          (None, 10, 10, 64)        0         \n",
      "_________________________________________________________________\n",
      "conv2d_3 (Conv2D)            (None, 8, 8, 128)         73856     \n",
      "_________________________________________________________________\n",
      "max_pooling2d_3 (MaxPooling2 (None, 4, 4, 128)         0         \n",
      "_________________________________________________________________\n",
      "flatten_1 (Flatten)          (None, 2048)              0         \n",
      "_________________________________________________________________\n",
      "dense_1 (Dense)              (None, 1024)              2098176   \n",
      "_________________________________________________________________\n",
      "dropout_3 (Dropout)          (None, 1024)              0         \n",
      "_________________________________________________________________\n",
      "dense_2 (Dense)              (None, 128)               131200    \n",
      "_________________________________________________________________\n",
      "dense_3 (Dense)              (None, 7)                 903       \n",
      "=================================================================\n",
      "Total params: 2,322,951\n",
      "Trainable params: 2,322,951\n",
      "Non-trainable params: 0\n",
      "_________________________________________________________________\n"
     ]
    }
   ],
   "source": [
    "model = Sequential()\n",
    "\n",
    "model.add(Conv2D(32,(3, 3), activation='relu', input_shape=(48,48,1)))\n",
    "model.add(MaxPooling2D(2,2))\n",
    "model.add(Dropout(0.5))\n",
    "\n",
    "#2nd convolution layer\n",
    "model.add(Conv2D(64, (3, 3), activation='relu'))\n",
    "model.add(MaxPooling2D(2,2))\n",
    "model.add(Dropout(0.5))\n",
    "\n",
    "#3rd convolution layer\n",
    "model.add(Conv2D(128, (3, 3), activation='relu'))\n",
    "model.add(MaxPooling2D(2,2))\n",
    "model.add(Flatten())\n",
    "\n",
    "#fully connected neural networks\n",
    "model.add(Dense(1024, activation='relu'))\n",
    "model.add(Dropout(0.2))\n",
    "model.add(Dense(128, activation='relu'))\n",
    "\n",
    "model.add(Dense(7, activation='softmax'))\n",
    "model.summary()"
   ]
  },
  {
   "cell_type": "code",
   "execution_count": 11,
   "metadata": {},
   "outputs": [],
   "source": [
    "model.compile(loss=categorical_crossentropy,\n",
    "              optimizer=Adam(),\n",
    "              metrics=['accuracy'])"
   ]
  },
  {
   "cell_type": "code",
   "execution_count": 12,
   "metadata": {
    "scrolled": true
   },
   "outputs": [
    {
     "name": "stdout",
     "output_type": "stream",
     "text": [
      "Train on 28709 samples, validate on 3589 samples\n",
      "Epoch 1/30\n",
      "28709/28709 [==============================] - 104s 4ms/step - loss: 1.6678 - accuracy: 0.3345 - val_loss: 1.5414 - val_accuracy: 0.4338\n",
      "Epoch 2/30\n",
      "28709/28709 [==============================] - 102s 4ms/step - loss: 1.4530 - accuracy: 0.4386 - val_loss: 1.3665 - val_accuracy: 0.4645\n",
      "Epoch 3/30\n",
      "28709/28709 [==============================] - 102s 4ms/step - loss: 1.3506 - accuracy: 0.4829 - val_loss: 1.2868 - val_accuracy: 0.5110\n",
      "Epoch 4/30\n",
      "28709/28709 [==============================] - 109s 4ms/step - loss: 1.2788 - accuracy: 0.5142 - val_loss: 1.2223 - val_accuracy: 0.5344\n",
      "Epoch 5/30\n",
      "28709/28709 [==============================] - 113s 4ms/step - loss: 1.2274 - accuracy: 0.5335 - val_loss: 1.2004 - val_accuracy: 0.5364\n",
      "Epoch 6/30\n",
      "28709/28709 [==============================] - 123s 4ms/step - loss: 1.1802 - accuracy: 0.5488 - val_loss: 1.1543 - val_accuracy: 0.5584\n",
      "Epoch 7/30\n",
      "28709/28709 [==============================] - 103s 4ms/step - loss: 1.1326 - accuracy: 0.5704 - val_loss: 1.1413 - val_accuracy: 0.5592\n",
      "Epoch 8/30\n",
      "28709/28709 [==============================] - 102s 4ms/step - loss: 1.0923 - accuracy: 0.5828 - val_loss: 1.1469 - val_accuracy: 0.5587\n",
      "Epoch 9/30\n",
      "28709/28709 [==============================] - 100s 3ms/step - loss: 1.0498 - accuracy: 0.6035 - val_loss: 1.1301 - val_accuracy: 0.5676\n",
      "Epoch 10/30\n",
      "28709/28709 [==============================] - 102s 4ms/step - loss: 1.0086 - accuracy: 0.6202 - val_loss: 1.1368 - val_accuracy: 0.5690\n",
      "Epoch 11/30\n",
      "28709/28709 [==============================] - 101s 4ms/step - loss: 0.9671 - accuracy: 0.6390 - val_loss: 1.1087 - val_accuracy: 0.5929\n",
      "Epoch 12/30\n",
      "28709/28709 [==============================] - 102s 4ms/step - loss: 0.9257 - accuracy: 0.6521 - val_loss: 1.1370 - val_accuracy: 0.5790\n",
      "Epoch 13/30\n",
      "28709/28709 [==============================] - 99s 3ms/step - loss: 0.8867 - accuracy: 0.6669 - val_loss: 1.1448 - val_accuracy: 0.5871\n",
      "Epoch 14/30\n",
      "28709/28709 [==============================] - 99s 3ms/step - loss: 0.8383 - accuracy: 0.6863 - val_loss: 1.1729 - val_accuracy: 0.5929\n",
      "Epoch 15/30\n",
      "28709/28709 [==============================] - 99s 3ms/step - loss: 0.8019 - accuracy: 0.7000 - val_loss: 1.1958 - val_accuracy: 0.5848\n",
      "Epoch 16/30\n",
      "28709/28709 [==============================] - 100s 3ms/step - loss: 0.7586 - accuracy: 0.7158 - val_loss: 1.2077 - val_accuracy: 0.5851\n",
      "Epoch 17/30\n",
      "28709/28709 [==============================] - 100s 3ms/step - loss: 0.7205 - accuracy: 0.7316 - val_loss: 1.1956 - val_accuracy: 0.5938\n",
      "Epoch 18/30\n",
      "28709/28709 [==============================] - 99s 3ms/step - loss: 0.6916 - accuracy: 0.7443 - val_loss: 1.2238 - val_accuracy: 0.5893\n",
      "Epoch 19/30\n",
      "28709/28709 [==============================] - 98s 3ms/step - loss: 0.6608 - accuracy: 0.7568 - val_loss: 1.2326 - val_accuracy: 0.5924\n",
      "Epoch 20/30\n",
      "28709/28709 [==============================] - 99s 3ms/step - loss: 0.6270 - accuracy: 0.7713 - val_loss: 1.2698 - val_accuracy: 0.5963\n",
      "Epoch 21/30\n",
      "28709/28709 [==============================] - 100s 3ms/step - loss: 0.6040 - accuracy: 0.7778 - val_loss: 1.3146 - val_accuracy: 0.5918\n",
      "Epoch 22/30\n",
      "28709/28709 [==============================] - 101s 4ms/step - loss: 0.5745 - accuracy: 0.7894 - val_loss: 1.2972 - val_accuracy: 0.6052\n",
      "Epoch 23/30\n",
      "28709/28709 [==============================] - 101s 4ms/step - loss: 0.5548 - accuracy: 0.7957 - val_loss: 1.3296 - val_accuracy: 0.5974\n",
      "Epoch 24/30\n",
      "28709/28709 [==============================] - 100s 3ms/step - loss: 0.5298 - accuracy: 0.8072 - val_loss: 1.3813 - val_accuracy: 0.5868\n",
      "Epoch 25/30\n",
      "28709/28709 [==============================] - 101s 4ms/step - loss: 0.5089 - accuracy: 0.8154 - val_loss: 1.4079 - val_accuracy: 0.5926\n",
      "Epoch 26/30\n",
      "28709/28709 [==============================] - 101s 4ms/step - loss: 0.4983 - accuracy: 0.8199 - val_loss: 1.3910 - val_accuracy: 0.5921\n",
      "Epoch 27/30\n",
      "28709/28709 [==============================] - 100s 3ms/step - loss: 0.4689 - accuracy: 0.8310 - val_loss: 1.4608 - val_accuracy: 0.5932\n",
      "Epoch 28/30\n",
      "28709/28709 [==============================] - 100s 3ms/step - loss: 0.4606 - accuracy: 0.8317 - val_loss: 1.5205 - val_accuracy: 0.5865\n",
      "Epoch 29/30\n",
      "28709/28709 [==============================] - 101s 4ms/step - loss: 0.4438 - accuracy: 0.8373 - val_loss: 1.5000 - val_accuracy: 0.5932\n",
      "Epoch 30/30\n",
      "28709/28709 [==============================] - 102s 4ms/step - loss: 0.4280 - accuracy: 0.8458 - val_loss: 1.4901 - val_accuracy: 0.5890\n"
     ]
    },
    {
     "data": {
      "text/plain": [
       "<keras.callbacks.callbacks.History at 0x19c1073de88>"
      ]
     },
     "execution_count": 12,
     "metadata": {},
     "output_type": "execute_result"
    }
   ],
   "source": [
    "model.fit(X_train, y_train,\n",
    "          batch_size=64,\n",
    "          epochs=30,\n",
    "          verbose=1,\n",
    "          validation_data=(X_test, y_test),\n",
    "          shuffle=True)"
   ]
  },
  {
   "cell_type": "code",
   "execution_count": 13,
   "metadata": {},
   "outputs": [],
   "source": [
    "fer_json = model.to_json()\n",
    "with open(\"fer.json\", \"w\") as json_file:\n",
    "    json_file.write(fer_json)\n",
    "model.save_weights(\"fer.h5\")"
   ]
  },
  {
   "cell_type": "code",
   "execution_count": null,
   "metadata": {},
   "outputs": [],
   "source": []
  }
 ],
 "metadata": {
  "kernelspec": {
   "display_name": "Python 3",
   "language": "python",
   "name": "python3"
  },
  "language_info": {
   "codemirror_mode": {
    "name": "ipython",
    "version": 3
   },
   "file_extension": ".py",
   "mimetype": "text/x-python",
   "name": "python",
   "nbconvert_exporter": "python",
   "pygments_lexer": "ipython3",
   "version": "3.7.7"
  }
 },
 "nbformat": 4,
 "nbformat_minor": 4
}
